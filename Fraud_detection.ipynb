{
 "cells": [
  {
   "cell_type": "code",
   "execution_count": 1,
   "metadata": {
    "id": "u83vk7YuVAWq"
   },
   "outputs": [],
   "source": [
    "#pip install pyspark"
   ]
  },
  {
   "cell_type": "code",
   "execution_count": 2,
   "metadata": {
    "id": "SR7ULDhxVNoy"
   },
   "outputs": [],
   "source": [
    "from pyspark.sql import SparkSession\n",
    "from pyspark.sql.functions import col, when\n",
    "from pyspark.ml.feature import StringIndexer, VectorAssembler\n",
    "from pyspark.ml.classification import RandomForestClassifier\n",
    "from pyspark.ml.evaluation import MulticlassClassificationEvaluator\n",
    "from pyspark.ml import Pipeline"
   ]
  },
  {
   "cell_type": "code",
   "execution_count": 15,
   "metadata": {},
   "outputs": [],
   "source": [
    "import seaborn as sns\n",
    "import matplotlib.pyplot as plt\n",
    "import pandas as pd\n",
    "import numpy as np"
   ]
  },
  {
   "cell_type": "code",
   "execution_count": 3,
   "metadata": {
    "id": "9iEJSGvzSH6m"
   },
   "outputs": [],
   "source": [
    "spark = SparkSession.builder \\\n",
    "    .appName(\"FinancialFraudDetection\") \\\n",
    "    .getOrCreate()"
   ]
  },
  {
   "cell_type": "code",
   "execution_count": 4,
   "metadata": {
    "id": "bsVvkzzGSH-f"
   },
   "outputs": [],
   "source": [
    "df = spark.read.csv(\"Synthetic_Financial_datasets_log.csv\", header=True, inferSchema=True)"
   ]
  },
  {
   "cell_type": "code",
   "execution_count": 5,
   "metadata": {
    "id": "v8LeiFiIXb4v"
   },
   "outputs": [
    {
     "data": {
      "text/plain": [
       "Row(step=1, type='PAYMENT', amount=9839.64, nameOrig='C1231006815', oldbalanceOrg=170136.0, newbalanceOrig=160296.36, nameDest='M1979787155', oldbalanceDest=0.0, newbalanceDest=0.0, isFraud=0, isFlaggedFraud=0)"
      ]
     },
     "execution_count": 5,
     "metadata": {},
     "output_type": "execute_result"
    }
   ],
   "source": [
    "df.head()"
   ]
  },
  {
   "cell_type": "code",
   "execution_count": 6,
   "metadata": {
    "id": "3YCCWP4iSIB7"
   },
   "outputs": [],
   "source": [
    "df = df.fillna(0)"
   ]
  },
  {
   "cell_type": "markdown",
   "metadata": {},
   "source": [
    "# EDA"
   ]
  },
  {
   "cell_type": "code",
   "execution_count": 7,
   "metadata": {},
   "outputs": [
    {
     "name": "stdout",
     "output_type": "stream",
     "text": [
      "Rows: 6362620, Columns: 11\n"
     ]
    }
   ],
   "source": [
    "# Shape of the dataframe\n",
    "num_rows = df.count()\n",
    "num_cols = len(df.columns)\n",
    "print(f\"Rows: {num_rows}, Columns: {num_cols}\")"
   ]
  },
  {
   "cell_type": "code",
   "execution_count": 8,
   "metadata": {},
   "outputs": [
    {
     "name": "stdout",
     "output_type": "stream",
     "text": [
      "root\n",
      " |-- step: integer (nullable = true)\n",
      " |-- type: string (nullable = true)\n",
      " |-- amount: double (nullable = false)\n",
      " |-- nameOrig: string (nullable = true)\n",
      " |-- oldbalanceOrg: double (nullable = false)\n",
      " |-- newbalanceOrig: double (nullable = false)\n",
      " |-- nameDest: string (nullable = true)\n",
      " |-- oldbalanceDest: double (nullable = false)\n",
      " |-- newbalanceDest: double (nullable = false)\n",
      " |-- isFraud: integer (nullable = true)\n",
      " |-- isFlaggedFraud: integer (nullable = true)\n",
      "\n"
     ]
    }
   ],
   "source": [
    "# Data Frame Schema (column names and types)\n",
    "df.printSchema()"
   ]
  },
  {
   "cell_type": "code",
   "execution_count": 9,
   "metadata": {},
   "outputs": [
    {
     "name": "stdout",
     "output_type": "stream",
     "text": [
      "+-------+------------------+--------+------------------+-----------+------------------+-----------------+-----------+------------------+------------------+--------------------+--------------------+\n",
      "|summary|              step|    type|            amount|   nameOrig|     oldbalanceOrg|   newbalanceOrig|   nameDest|    oldbalanceDest|    newbalanceDest|             isFraud|      isFlaggedFraud|\n",
      "+-------+------------------+--------+------------------+-----------+------------------+-----------------+-----------+------------------+------------------+--------------------+--------------------+\n",
      "|  count|           6362620| 6362620|           6362620|    6362620|           6362620|          6362620|    6362620|           6362620|           6362620|             6362620|             6362620|\n",
      "|   mean|243.39724563151657|    NULL|179861.90354913048|       NULL| 833883.1040744851|855113.6685785787|       NULL|1100701.6665196505|1224996.3982019336|0.001290820448180152| 2.51468734577894E-6|\n",
      "| stddev| 142.3319710491305|    NULL| 603858.2314629437|       NULL|2888242.6730375397|2924048.502954241|       NULL|3399180.1129944543|3674128.9421196654| 0.03590479680160438|0.001585774705736...|\n",
      "|    min|                 1| CASH_IN|               0.0|C1000000639|               0.0|              0.0|C1000004082|               0.0|               0.0|                   0|                   0|\n",
      "|    max|               743|TRANSFER|     9.244551664E7| C999999784|     5.958504037E7|    4.958504037E7| M999999784|    3.5601588935E8|    3.5617927892E8|                   1|                   1|\n",
      "+-------+------------------+--------+------------------+-----------+------------------+-----------------+-----------+------------------+------------------+--------------------+--------------------+\n",
      "\n"
     ]
    }
   ],
   "source": [
    "# Summary statistics for non-numeric columns\n",
    "df.describe().show()"
   ]
  },
  {
   "cell_type": "code",
   "execution_count": 10,
   "metadata": {},
   "outputs": [
    {
     "name": "stdout",
     "output_type": "stream",
     "text": [
      "Column 'step': 6362620 non-null values\n",
      "Column 'type': 6362620 non-null values\n",
      "Column 'amount': 6362620 non-null values\n",
      "Column 'nameOrig': 6362620 non-null values\n",
      "Column 'oldbalanceOrg': 6362620 non-null values\n",
      "Column 'newbalanceOrig': 6362620 non-null values\n",
      "Column 'nameDest': 6362620 non-null values\n",
      "Column 'oldbalanceDest': 6362620 non-null values\n",
      "Column 'newbalanceDest': 6362620 non-null values\n",
      "Column 'isFraud': 6362620 non-null values\n",
      "Column 'isFlaggedFraud': 6362620 non-null values\n"
     ]
    }
   ],
   "source": [
    "# Count the number of non-null values in each column\n",
    "for col in df.columns:\n",
    "    non_null_count = df.filter(df[col].isNotNull()).count()\n",
    "    print(f\"Column '{col}': {non_null_count} non-null values\")"
   ]
  },
  {
   "cell_type": "code",
   "execution_count": 11,
   "metadata": {},
   "outputs": [
    {
     "name": "stdout",
     "output_type": "stream",
     "text": [
      "+-------+------------------+--------+------------------+-----------+------------------+-----------------+-----------+------------------+------------------+--------------------+--------------------+\n",
      "|summary|              step|    type|            amount|   nameOrig|     oldbalanceOrg|   newbalanceOrig|   nameDest|    oldbalanceDest|    newbalanceDest|             isFraud|      isFlaggedFraud|\n",
      "+-------+------------------+--------+------------------+-----------+------------------+-----------------+-----------+------------------+------------------+--------------------+--------------------+\n",
      "|  count|           6362620| 6362620|           6362620|    6362620|           6362620|          6362620|    6362620|           6362620|           6362620|             6362620|             6362620|\n",
      "|   mean|243.39724563151657|    NULL|179861.90354913048|       NULL| 833883.1040744851|855113.6685785787|       NULL|1100701.6665196505|1224996.3982019336|0.001290820448180152| 2.51468734577894E-6|\n",
      "| stddev| 142.3319710491305|    NULL| 603858.2314629437|       NULL|2888242.6730375397|2924048.502954241|       NULL|3399180.1129944543|3674128.9421196654| 0.03590479680160438|0.001585774705736...|\n",
      "|    min|                 1| CASH_IN|               0.0|C1000000639|               0.0|              0.0|C1000004082|               0.0|               0.0|                   0|                   0|\n",
      "|    max|               743|TRANSFER|     9.244551664E7| C999999784|     5.958504037E7|    4.958504037E7| M999999784|    3.5601588935E8|    3.5617927892E8|                   1|                   1|\n",
      "+-------+------------------+--------+------------------+-----------+------------------+-----------------+-----------+------------------+------------------+--------------------+--------------------+\n",
      "\n"
     ]
    }
   ],
   "source": [
    "# Generate descriptive statistics for numeric columns\n",
    "df.describe().show()"
   ]
  },
  {
   "cell_type": "code",
   "execution_count": 12,
   "metadata": {
    "scrolled": true
   },
   "outputs": [
    {
     "name": "stdout",
     "output_type": "stream",
     "text": [
      "Unique values for column step: 743\n",
      "+----+-----+\n",
      "|step|count|\n",
      "+----+-----+\n",
      "|19  |51352|\n",
      "|18  |49579|\n",
      "|187 |49083|\n",
      "|235 |47491|\n",
      "|307 |46968|\n",
      "|163 |46352|\n",
      "|139 |46054|\n",
      "|403 |45155|\n",
      "|43  |45060|\n",
      "|355 |44787|\n",
      "|15  |44609|\n",
      "|186 |43747|\n",
      "|306 |43615|\n",
      "|17  |43361|\n",
      "|259 |43328|\n",
      "|16  |42471|\n",
      "|379 |41759|\n",
      "|14  |41485|\n",
      "|42  |41304|\n",
      "|354 |40696|\n",
      "+----+-----+\n",
      "only showing top 20 rows\n",
      "\n",
      "======================================================\n",
      "Unique values for column type: 5\n",
      "+--------+-------+\n",
      "|type    |count  |\n",
      "+--------+-------+\n",
      "|CASH_OUT|2237500|\n",
      "|PAYMENT |2151495|\n",
      "|CASH_IN |1399284|\n",
      "|TRANSFER|532909 |\n",
      "|DEBIT   |41432  |\n",
      "+--------+-------+\n",
      "\n",
      "======================================================\n",
      "Unique values for column amount: 5316900\n",
      "+--------+-----+\n",
      "|amount  |count|\n",
      "+--------+-----+\n",
      "|1.0E7   |3207 |\n",
      "|10000.0 |88   |\n",
      "|5000.0  |79   |\n",
      "|15000.0 |68   |\n",
      "|500.0   |65   |\n",
      "|100000.0|42   |\n",
      "|21500.0 |37   |\n",
      "|120000.0|29   |\n",
      "|135000.0|20   |\n",
      "|0.0     |16   |\n",
      "|4546.07 |9    |\n",
      "|4648.12 |9    |\n",
      "|1711.67 |9    |\n",
      "|8661.0  |9    |\n",
      "|213.86  |9    |\n",
      "|3748.95 |9    |\n",
      "|2431.38 |9    |\n",
      "|10180.18|9    |\n",
      "|2152.26 |9    |\n",
      "|5047.67 |9    |\n",
      "+--------+-----+\n",
      "only showing top 20 rows\n",
      "\n",
      "======================================================\n",
      "Unique values for column nameOrig: 6353307\n",
      "+-----------+-----+\n",
      "|nameOrig   |count|\n",
      "+-----------+-----+\n",
      "|C1462946854|3    |\n",
      "|C1065307291|3    |\n",
      "|C1902386530|3    |\n",
      "|C545315117 |3    |\n",
      "|C1530544995|3    |\n",
      "|C724452879 |3    |\n",
      "|C1832548028|3    |\n",
      "|C1976208114|3    |\n",
      "|C1784010646|3    |\n",
      "|C2098525306|3    |\n",
      "|C1677795071|3    |\n",
      "|C363736674 |3    |\n",
      "|C1999539787|3    |\n",
      "|C400299098 |3    |\n",
      "|C2051359467|3    |\n",
      "|C1000442951|2    |\n",
      "|C1005611537|2    |\n",
      "|C102857956 |2    |\n",
      "|C1001571964|2    |\n",
      "|C1001770944|2    |\n",
      "+-----------+-----+\n",
      "only showing top 20 rows\n",
      "\n",
      "======================================================\n",
      "Unique values for column oldbalanceOrg: 1845844\n",
      "+-------------+-------+\n",
      "|oldbalanceOrg|count  |\n",
      "+-------------+-------+\n",
      "|0.0          |2102449|\n",
      "|184.0        |918    |\n",
      "|133.0        |914    |\n",
      "|195.0        |912    |\n",
      "|164.0        |909    |\n",
      "|181.0        |908    |\n",
      "|109.0        |908    |\n",
      "|157.0        |902    |\n",
      "|146.0        |899    |\n",
      "|136.0        |898    |\n",
      "|128.0        |898    |\n",
      "|115.0        |896    |\n",
      "|169.0        |896    |\n",
      "|147.0        |891    |\n",
      "|162.0        |886    |\n",
      "|186.0        |885    |\n",
      "|165.0        |884    |\n",
      "|104.0        |883    |\n",
      "|153.0        |880    |\n",
      "|100.0        |880    |\n",
      "+-------------+-------+\n",
      "only showing top 20 rows\n",
      "\n",
      "======================================================\n",
      "Unique values for column newbalanceOrig: 2682586\n",
      "+--------------+-------+\n",
      "|newbalanceOrig|count  |\n",
      "+--------------+-------+\n",
      "|0.0           |3609566|\n",
      "|904.13        |4      |\n",
      "|9018.87       |4      |\n",
      "|18672.58      |4      |\n",
      "|9897.82       |4      |\n",
      "|8537.18       |4      |\n",
      "|7990.95       |4      |\n",
      "|6891.47       |4      |\n",
      "|5694.63       |4      |\n",
      "|26099.09      |4      |\n",
      "|596.04        |4      |\n",
      "|37906.33      |4      |\n",
      "|366.96        |4      |\n",
      "|2206.45       |4      |\n",
      "|3024.55       |4      |\n",
      "|19220.18      |4      |\n",
      "|3684.32       |4      |\n",
      "|23623.99      |4      |\n",
      "|7070.1        |4      |\n",
      "|24038.92      |4      |\n",
      "+--------------+-------+\n",
      "only showing top 20 rows\n",
      "\n",
      "======================================================\n",
      "Unique values for column nameDest: 2722362\n",
      "+-----------+-----+\n",
      "|nameDest   |count|\n",
      "+-----------+-----+\n",
      "|C1286084959|113  |\n",
      "|C985934102 |109  |\n",
      "|C665576141 |105  |\n",
      "|C2083562754|102  |\n",
      "|C1590550415|101  |\n",
      "|C248609774 |101  |\n",
      "|C451111351 |99   |\n",
      "|C1789550256|99   |\n",
      "|C1360767589|98   |\n",
      "|C1023714065|97   |\n",
      "|C977993101 |96   |\n",
      "|C97730845  |96   |\n",
      "|C392292416 |95   |\n",
      "|C1899073220|92   |\n",
      "|C306206744 |91   |\n",
      "|C1782113663|90   |\n",
      "|C1234776885|90   |\n",
      "|C998351292 |89   |\n",
      "|C716083600 |89   |\n",
      "|C909295153 |88   |\n",
      "+-----------+-----+\n",
      "only showing top 20 rows\n",
      "\n",
      "======================================================\n",
      "Unique values for column oldbalanceDest: 3614697\n",
      "+--------------+-------+\n",
      "|oldbalanceDest|count  |\n",
      "+--------------+-------+\n",
      "|0.0           |2704388|\n",
      "|1.0E7         |615    |\n",
      "|2.0E7         |219    |\n",
      "|3.0E7         |86     |\n",
      "|4.0E7         |31     |\n",
      "|102.0         |21     |\n",
      "|198.0         |19     |\n",
      "|125.0         |18     |\n",
      "|160.0         |18     |\n",
      "|132.0         |18     |\n",
      "|214.0         |17     |\n",
      "|156.0         |17     |\n",
      "|106.0         |17     |\n",
      "|194.0         |16     |\n",
      "|190.0         |16     |\n",
      "|184.0         |16     |\n",
      "|144.0         |16     |\n",
      "|168.0         |16     |\n",
      "|143.0         |16     |\n",
      "|173.0         |16     |\n",
      "+--------------+-------+\n",
      "only showing top 20 rows\n",
      "\n",
      "======================================================\n",
      "Unique values for column newbalanceDest: 3555499\n",
      "+--------------+-------+\n",
      "|newbalanceDest|count  |\n",
      "+--------------+-------+\n",
      "|0.0           |2439433|\n",
      "|1.0E7         |53     |\n",
      "|971418.91     |32     |\n",
      "|1.916920493E7 |29     |\n",
      "|1.653203216E7 |25     |\n",
      "|1254956.07    |25     |\n",
      "|1412484.09    |22     |\n",
      "|7364724.84    |21     |\n",
      "|1178808.14    |21     |\n",
      "|4743010.67    |21     |\n",
      "|1.812375085E7 |20     |\n",
      "|1186556.81    |19     |\n",
      "|4619798.56    |19     |\n",
      "|2107778.11    |19     |\n",
      "|1517262.16    |19     |\n",
      "|1.303387102E7 |18     |\n",
      "|1.038890422E7 |18     |\n",
      "|1015132.48    |17     |\n",
      "|1.640848012E7 |17     |\n",
      "|3940085.21    |17     |\n",
      "+--------------+-------+\n",
      "only showing top 20 rows\n",
      "\n",
      "======================================================\n",
      "Unique values for column isFraud: 2\n",
      "+-------+-------+\n",
      "|isFraud|count  |\n",
      "+-------+-------+\n",
      "|0      |6354407|\n",
      "|1      |8213   |\n",
      "+-------+-------+\n",
      "\n",
      "======================================================\n",
      "Unique values for column isFlaggedFraud: 2\n",
      "+--------------+-------+\n",
      "|isFlaggedFraud|count  |\n",
      "+--------------+-------+\n",
      "|0             |6362604|\n",
      "|1             |16     |\n",
      "+--------------+-------+\n",
      "\n",
      "======================================================\n"
     ]
    }
   ],
   "source": [
    "# Show the count of unique values for each column\n",
    "from pyspark.sql.functions import countDistinct\n",
    "\n",
    "for col in df.columns:\n",
    "    unique_count = df.select(countDistinct(col)).collect()[0][0]\n",
    "    print(f\"Unique values for column {col}: {unique_count}\")\n",
    "    \n",
    "    # Optional: to display the value counts similar to pandas' value_counts\n",
    "    df.groupBy(col).count().orderBy('count', ascending=False).show(truncate=False)\n",
    "    print(\"======================================================\")\n"
   ]
  },
  {
   "cell_type": "markdown",
   "metadata": {},
   "source": [
    "# Data Visualization"
   ]
  },
  {
   "cell_type": "code",
   "execution_count": 17,
   "metadata": {},
   "outputs": [
    {
     "data": {
      "image/png": "[encoded data removed]",
      "text/plain": [
       "<Figure size 576x432 with 1 Axes>"
      ]
     },
     "metadata": {},
     "output_type": "display_data"
    }
   ],
   "source": [
    "# Convert PySpark DataFrame to Pandas DataFrame for visualizationdf_pd = df.select('type').toPandas()\n",
    "\n",
    "\n",
    "sns.set_style(\"dark\")  \n",
    "sns.set_palette(\"pastel\")\n",
    "\n",
    "colors = plt.cm.autumn(np.linspace(0, 1, df_pd['type'].nunique()))\n",
    "\n",
    "plt.figure(figsize=(8, 6))\n",
    "df_pd['type'].value_counts().plot(kind='bar', color=colors)\n",
    "plt.title('Type of transaction', color='#F41010', fontsize=20)\n",
    "plt.xticks(rotation=45, color='#F41010')\n",
    "plt.xlabel('Type', fontsize=18, color='#F41010')\n",
    "plt.ylabel('count', fontsize=18, color='#F41010')\n",
    "plt.show()"
   ]
  },
  {
   "cell_type": "code",
   "execution_count": 18,
   "metadata": {},
   "outputs": [
    {
     "data": {
      "image/png": "[encoded data removed]",
      "text/plain": [
       "<Figure size 720x360 with 1 Axes>"
      ]
     },
     "metadata": {},
     "output_type": "display_data"
    }
   ],
   "source": [
    "df_pd = df.select('amount').toPandas()\n",
    "\n",
    "sns.set_style(\"dark\") # set the style of the plot as dark grid\n",
    "sns.set_palette(\"pastel\")\n",
    "plt.figure(figsize = (10,5))\n",
    "df_pd['amount'].value_counts().sort_values(ascending=False).head().plot(kind='bar', color='#F47F10')\n",
    "plt.title(\"Amount of the transaction\", fontsize=20, color=\"#F41010\")\n",
    "plt.xticks(rotation=0, fontsize=12, color='#F41010')\n",
    "plt.xlabel('Amount', fontsize=16, color='#F41010')\n",
    "plt.ylabel('Count', fontsize=16, color='#F41010')\n",
    "plt.show()"
   ]
  },
  {
   "cell_type": "code",
   "execution_count": 19,
   "metadata": {},
   "outputs": [
    {
     "name": "stdout",
     "output_type": "stream",
     "text": [
      "+--------+-------+\n",
      "|    type|  count|\n",
      "+--------+-------+\n",
      "|TRANSFER| 532909|\n",
      "| CASH_IN|1399284|\n",
      "|CASH_OUT|2237500|\n",
      "| PAYMENT|2151495|\n",
      "|   DEBIT|  41432|\n",
      "+--------+-------+\n",
      "\n"
     ]
    }
   ],
   "source": [
    "# Group by 'type' and count 'amount'\n",
    "type_amount_counts = df.groupBy('type').count().select('type', 'count')\n",
    "type_amount_counts.show()"
   ]
  },
  {
   "cell_type": "code",
   "execution_count": 20,
   "metadata": {},
   "outputs": [
    {
     "data": {
      "image/png": "[encoded data removed]",
      "text/plain": [
       "<Figure size 432x432 with 1 Axes>"
      ]
     },
     "metadata": {},
     "output_type": "display_data"
    }
   ],
   "source": [
    "counts_pd = type_amount_counts.toPandas()\n",
    "\n",
    "colors = plt.cm.Blues(np.linspace(0, 1, counts_pd['count'].nunique()))\n",
    "\n",
    "plt.figure(figsize=(6, 6))\n",
    "plt.pie(counts_pd['count'], labels=counts_pd['type'], autopct=\"%1.1f%%\", \n",
    "        colors=colors, shadow=True, explode=(0.1, 0, 0, 0, 0),\n",
    "        textprops={'fontsize': 15})\n",
    "plt.title('Count of each type of transaction', fontweight='bold', \n",
    "          fontsize=18, fontfamily='times new roman')\n",
    "plt.show()"
   ]
  },
  {
   "cell_type": "code",
   "execution_count": 23,
   "metadata": {
    "id": "0tdBqKDPRdtz"
   },
   "outputs": [],
   "source": [
    "# Convert categorical columns to numeric using StringIndexer\n",
    "indexer = StringIndexer(inputCol=\"type\", outputCol=\"type_indexed\")"
   ]
  },
  {
   "cell_type": "code",
   "execution_count": 25,
   "metadata": {
    "id": "ejhJhEA0TJWu"
   },
   "outputs": [],
   "source": [
    "# Create new features based on balance differences\n",
    "df = df.withColumn(\"errorBalanceOrig\", col(\"newbalanceOrig\") + col(\"amount\") - col(\"oldbalanceOrg\"))\n",
    "df = df.withColumn(\"errorBalanceDest\", col(\"oldbalanceDest\") + col(\"amount\") - col(\"newbalanceDest\"))"
   ]
  },
  {
   "cell_type": "code",
   "execution_count": 27,
   "metadata": {
    "id": "e2ErrnfBTN25"
   },
   "outputs": [],
   "source": [
    "# Assemble features into a vector\n",
    "feature_columns = [\"type_indexed\", \"amount\", \"oldbalanceOrg\", \"newbalanceOrig\",\n",
    "                   \"oldbalanceDest\", \"newbalanceDest\", \"errorBalanceOrig\", \"errorBalanceDest\"]\n",
    "assembler = VectorAssembler(inputCols=feature_columns, outputCol=\"features\")"
   ]
  },
  {
   "cell_type": "code",
   "execution_count": 29,
   "metadata": {
    "id": "LmWXDNCNTN6N"
   },
   "outputs": [],
   "source": [
    "train_data, test_data = df.randomSplit([0.7, 0.3], seed=42)"
   ]
  },
  {
   "cell_type": "code",
   "execution_count": 31,
   "metadata": {
    "id": "LTLi9zU4TUPi"
   },
   "outputs": [],
   "source": [
    "rf = RandomForestClassifier(labelCol=\"isFraud\", featuresCol=\"features\", numTrees=100)\n"
   ]
  },
  {
   "cell_type": "code",
   "execution_count": 33,
   "metadata": {
    "id": "OQkazKaDTUS7"
   },
   "outputs": [],
   "source": [
    "pipeline = Pipeline(stages=[indexer, assembler, rf])\n"
   ]
  },
  {
   "cell_type": "code",
   "execution_count": 35,
   "metadata": {
    "id": "k7VFdzevTgLr"
   },
   "outputs": [],
   "source": [
    "model = pipeline.fit(train_data)"
   ]
  },
  {
   "cell_type": "code",
   "execution_count": 40,
   "metadata": {},
   "outputs": [
    {
     "name": "stdout",
     "output_type": "stream",
     "text": [
      "+-------+----------+------------------------------------------+\n",
      "|isFraud|prediction|probability                               |\n",
      "+-------+----------+------------------------------------------+\n",
      "|0      |0.0       |[0.9998902261216203,1.0977387837974097E-4]|\n",
      "|0      |0.0       |[0.9998885608815268,1.114391184733045E-4] |\n",
      "|0      |0.0       |[0.999878547586007,1.2145241399292756E-4] |\n",
      "|0      |0.0       |[0.9998881900831456,1.1180991685445569E-4]|\n",
      "|0      |0.0       |[0.9998881900831456,1.1180991685445569E-4]|\n",
      "|0      |0.0       |[0.9998902261216203,1.0977387837974097E-4]|\n",
      "|0      |0.0       |[0.999878547586007,1.2145241399292756E-4] |\n",
      "|0      |0.0       |[0.9998881900831456,1.1180991685445569E-4]|\n",
      "|0      |0.0       |[0.9998881900831456,1.1180991685445569E-4]|\n",
      "|0      |0.0       |[0.999878547586007,1.2145241399292756E-4] |\n",
      "+-------+----------+------------------------------------------+\n",
      "only showing top 10 rows\n",
      "\n"
     ]
    }
   ],
   "source": [
    "predictions = model.transform(test_data)\n",
    "predictions.select(\"isFraud\", \"prediction\", \"probability\").show(10, False)\n"
   ]
  },
  {
   "cell_type": "code",
   "execution_count": 41,
   "metadata": {
    "id": "q60UT1xSTgUU"
   },
   "outputs": [
    {
     "name": "stdout",
     "output_type": "stream",
     "text": [
      "Test Accuracy: 0.9999587592018531\n"
     ]
    }
   ],
   "source": [
    "evaluator = MulticlassClassificationEvaluator(labelCol=\"isFraud\", predictionCol=\"prediction\", metricName=\"accuracy\")\n",
    "accuracy = evaluator.evaluate(predictions)\n",
    "print(f\"Test Accuracy: {accuracy}\")"
   ]
  },
  {
   "cell_type": "code",
   "execution_count": 49,
   "metadata": {},
   "outputs": [],
   "source": [
    "spark.stop()\n",
    "\n"
   ]
  },
  {
   "cell_type": "code",
   "execution_count": null,
   "metadata": {},
   "outputs": [],
   "source": []
  }
 ],
 "metadata": {
  "accelerator": "GPU",
  "colab": {
   "gpuType": "T4",
   "provenance": []
  },
  "kernelspec": {
   "display_name": "Python 3 (ipykernel)",
   "language": "python",
   "name": "python3"
  },
  "language_info": {
   "codemirror_mode": {
    "name": "ipython",
    "version": 3
   },
   "file_extension": ".py",
   "mimetype": "text/x-python",
   "name": "python",
   "nbconvert_exporter": "python",
   "pygments_lexer": "ipython3",
   "version": "3.9.12"
  }
 },
 "nbformat": 4,
 "nbformat_minor": 4
}
