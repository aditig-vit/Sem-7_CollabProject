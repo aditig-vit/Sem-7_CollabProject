{
 "cells": [
  {
   "cell_type": "code",
   "execution_count": 1,
   "metadata": {
    "id": "u83vk7YuVAWq"
   },
   "outputs": [],
   "source": [
    "#pip install pyspark"
   ]
  },
  {
   "cell_type": "code",
   "execution_count": 2,
   "metadata": {
    "id": "SR7ULDhxVNoy"
   },
   "outputs": [],
   "source": [
    "from pyspark.sql import SparkSession\n",
    "from pyspark.sql.functions import col, when\n",
    "from pyspark.ml.feature import StringIndexer, VectorAssembler\n",
    "from pyspark.ml.classification import RandomForestClassifier\n",
    "from pyspark.ml import Pipeline"
   ]
  },
  {
   "cell_type": "code",
   "execution_count": 3,
   "metadata": {},
   "outputs": [],
   "source": [
    "import seaborn as sns\n",
    "import matplotlib.pyplot as plt\n",
    "import pandas as pd\n",
    "import numpy as np\n",
    "from sklearn.preprocessing  import LabelEncoder"
   ]
  },
  {
   "cell_type": "code",
   "execution_count": 36,
   "metadata": {
    "id": "9iEJSGvzSH6m"
   },
   "outputs": [],
   "source": [
    "spark = SparkSession.builder \\\n",
    "    .appName(\"FinancialFraudDetection\") \\\n",
    "    .getOrCreate()"
   ]
  },
  {
   "cell_type": "code",
   "execution_count": 5,
   "metadata": {
    "id": "bsVvkzzGSH-f"
   },
   "outputs": [],
   "source": [
    "df = spark.read.csv(\"Synthetic_Financial_datasets_log.csv\", header=True, inferSchema=True)"
   ]
  },
  {
   "cell_type": "code",
   "execution_count": 6,
   "metadata": {
    "id": "v8LeiFiIXb4v"
   },
   "outputs": [
    {
     "data": {
      "text/plain": [
       "Row(step=1, type='PAYMENT', amount=9839.64, nameOrig='C1231006815', oldbalanceOrg=170136.0, newbalanceOrig=160296.36, nameDest='M1979787155', oldbalanceDest=0.0, newbalanceDest=0.0, isFraud=0, isFlaggedFraud=0)"
      ]
     },
     "execution_count": 6,
     "metadata": {},
     "output_type": "execute_result"
    }
   ],
   "source": [
    "df.head()"
   ]
  },
  {
   "cell_type": "code",
   "execution_count": 7,
   "metadata": {
    "id": "3YCCWP4iSIB7"
   },
   "outputs": [],
   "source": [
    "df = df.fillna(0)"
   ]
  },
  {
   "cell_type": "markdown",
   "metadata": {},
   "source": [
    "# EDA"
   ]
  },
  {
   "cell_type": "code",
   "execution_count": 8,
   "metadata": {},
   "outputs": [
    {
     "name": "stdout",
     "output_type": "stream",
     "text": [
      "Rows: 6362620, Columns: 11\n"
     ]
    }
   ],
   "source": [
    "# Shape of the dataframe\n",
    "num_rows = df.count()\n",
    "num_cols = len(df.columns)\n",
    "print(f\"Rows: {num_rows}, Columns: {num_cols}\")"
   ]
  },
  {
   "cell_type": "code",
   "execution_count": 9,
   "metadata": {},
   "outputs": [
    {
     "name": "stdout",
     "output_type": "stream",
     "text": [
      "root\n",
      " |-- step: integer (nullable = true)\n",
      " |-- type: string (nullable = true)\n",
      " |-- amount: double (nullable = false)\n",
      " |-- nameOrig: string (nullable = true)\n",
      " |-- oldbalanceOrg: double (nullable = false)\n",
      " |-- newbalanceOrig: double (nullable = false)\n",
      " |-- nameDest: string (nullable = true)\n",
      " |-- oldbalanceDest: double (nullable = false)\n",
      " |-- newbalanceDest: double (nullable = false)\n",
      " |-- isFraud: integer (nullable = true)\n",
      " |-- isFlaggedFraud: integer (nullable = true)\n",
      "\n"
     ]
    }
   ],
   "source": [
    "# Data Frame Schema (column names and types)\n",
    "df.printSchema()"
   ]
  },
  {
   "cell_type": "code",
   "execution_count": 10,
   "metadata": {},
   "outputs": [
    {
     "name": "stdout",
     "output_type": "stream",
     "text": [
      "+-------+------------------+--------+------------------+-----------+------------------+-----------------+-----------+------------------+------------------+--------------------+--------------------+\n",
      "|summary|              step|    type|            amount|   nameOrig|     oldbalanceOrg|   newbalanceOrig|   nameDest|    oldbalanceDest|    newbalanceDest|             isFraud|      isFlaggedFraud|\n",
      "+-------+------------------+--------+------------------+-----------+------------------+-----------------+-----------+------------------+------------------+--------------------+--------------------+\n",
      "|  count|           6362620| 6362620|           6362620|    6362620|           6362620|          6362620|    6362620|           6362620|           6362620|             6362620|             6362620|\n",
      "|   mean|243.39724563151657|    NULL|179861.90354913156|       NULL| 833883.1040744876|855113.6685785913|       NULL| 1100701.666519651|1224996.3982019257|0.001290820448180152| 2.51468734577894E-6|\n",
      "| stddev| 142.3319710491294|    NULL| 603858.2314629381|       NULL|2888242.6730375625|2924048.502954259|       NULL|3399180.1129944725|3674128.9421196347|  0.0359047968016041|0.001585774705736...|\n",
      "|    min|                 1| CASH_IN|               0.0|C1000000639|               0.0|              0.0|C1000004082|               0.0|               0.0|                   0|                   0|\n",
      "|    max|               743|TRANSFER|     9.244551664E7| C999999784|     5.958504037E7|    4.958504037E7| M999999784|    3.5601588935E8|    3.5617927892E8|                   1|                   1|\n",
      "+-------+------------------+--------+------------------+-----------+------------------+-----------------+-----------+------------------+------------------+--------------------+--------------------+\n",
      "\n"
     ]
    }
   ],
   "source": [
    "# Summary statistics for non-numeric columns\n",
    "df.describe().show()"
   ]
  },
  {
   "cell_type": "code",
   "execution_count": 11,
   "metadata": {},
   "outputs": [
    {
     "name": "stdout",
     "output_type": "stream",
     "text": [
      "Column 'step': 6362620 non-null values\n",
      "Column 'type': 6362620 non-null values\n",
      "Column 'amount': 6362620 non-null values\n",
      "Column 'nameOrig': 6362620 non-null values\n",
      "Column 'oldbalanceOrg': 6362620 non-null values\n",
      "Column 'newbalanceOrig': 6362620 non-null values\n",
      "Column 'nameDest': 6362620 non-null values\n",
      "Column 'oldbalanceDest': 6362620 non-null values\n",
      "Column 'newbalanceDest': 6362620 non-null values\n",
      "Column 'isFraud': 6362620 non-null values\n",
      "Column 'isFlaggedFraud': 6362620 non-null values\n"
     ]
    }
   ],
   "source": [
    "# Count the number of non-null values in each column\n",
    "for col in df.columns:\n",
    "    non_null_count = df.filter(df[col].isNotNull()).count()\n",
    "    print(f\"Column '{col}': {non_null_count} non-null values\")"
   ]
  },
  {
   "cell_type": "code",
   "execution_count": 12,
   "metadata": {},
   "outputs": [
    {
     "name": "stdout",
     "output_type": "stream",
     "text": [
      "+-------+------------------+--------+------------------+-----------+------------------+-----------------+-----------+------------------+------------------+--------------------+--------------------+\n",
      "|summary|              step|    type|            amount|   nameOrig|     oldbalanceOrg|   newbalanceOrig|   nameDest|    oldbalanceDest|    newbalanceDest|             isFraud|      isFlaggedFraud|\n",
      "+-------+------------------+--------+------------------+-----------+------------------+-----------------+-----------+------------------+------------------+--------------------+--------------------+\n",
      "|  count|           6362620| 6362620|           6362620|    6362620|           6362620|          6362620|    6362620|           6362620|           6362620|             6362620|             6362620|\n",
      "|   mean|243.39724563151657|    NULL|179861.90354913156|       NULL| 833883.1040744876|855113.6685785913|       NULL| 1100701.666519651|1224996.3982019257|0.001290820448180152| 2.51468734577894E-6|\n",
      "| stddev| 142.3319710491294|    NULL| 603858.2314629381|       NULL|2888242.6730375625|2924048.502954259|       NULL|3399180.1129944725|3674128.9421196347|  0.0359047968016041|0.001585774705736...|\n",
      "|    min|                 1| CASH_IN|               0.0|C1000000639|               0.0|              0.0|C1000004082|               0.0|               0.0|                   0|                   0|\n",
      "|    max|               743|TRANSFER|     9.244551664E7| C999999784|     5.958504037E7|    4.958504037E7| M999999784|    3.5601588935E8|    3.5617927892E8|                   1|                   1|\n",
      "+-------+------------------+--------+------------------+-----------+------------------+-----------------+-----------+------------------+------------------+--------------------+--------------------+\n",
      "\n"
     ]
    }
   ],
   "source": [
    "# Generate descriptive statistics for numeric columns\n",
    "df.describe().show()"
   ]
  },
  {
   "cell_type": "code",
   "execution_count": 13,
   "metadata": {
    "scrolled": true
   },
   "outputs": [
    {
     "name": "stdout",
     "output_type": "stream",
     "text": [
      "Unique values for column step: 743\n",
      "+----+-----+\n",
      "|step|count|\n",
      "+----+-----+\n",
      "|19  |51352|\n",
      "|18  |49579|\n",
      "|187 |49083|\n",
      "|235 |47491|\n",
      "|307 |46968|\n",
      "|163 |46352|\n",
      "|139 |46054|\n",
      "|403 |45155|\n",
      "|43  |45060|\n",
      "|355 |44787|\n",
      "|15  |44609|\n",
      "|186 |43747|\n",
      "|306 |43615|\n",
      "|17  |43361|\n",
      "|259 |43328|\n",
      "|16  |42471|\n",
      "|379 |41759|\n",
      "|14  |41485|\n",
      "|42  |41304|\n",
      "|354 |40696|\n",
      "+----+-----+\n",
      "only showing top 20 rows\n",
      "\n",
      "======================================================\n",
      "Unique values for column type: 5\n",
      "+--------+-------+\n",
      "|type    |count  |\n",
      "+--------+-------+\n",
      "|CASH_OUT|2237500|\n",
      "|PAYMENT |2151495|\n",
      "|CASH_IN |1399284|\n",
      "|TRANSFER|532909 |\n",
      "|DEBIT   |41432  |\n",
      "+--------+-------+\n",
      "\n",
      "======================================================\n",
      "Unique values for column amount: 5316900\n",
      "+--------+-----+\n",
      "|amount  |count|\n",
      "+--------+-----+\n",
      "|1.0E7   |3207 |\n",
      "|10000.0 |88   |\n",
      "|5000.0  |79   |\n",
      "|15000.0 |68   |\n",
      "|500.0   |65   |\n",
      "|100000.0|42   |\n",
      "|21500.0 |37   |\n",
      "|120000.0|29   |\n",
      "|135000.0|20   |\n",
      "|0.0     |16   |\n",
      "|8661.0  |9    |\n",
      "|2431.38 |9    |\n",
      "|4648.12 |9    |\n",
      "|1711.67 |9    |\n",
      "|5047.67 |9    |\n",
      "|10180.18|9    |\n",
      "|3748.95 |9    |\n",
      "|4546.07 |9    |\n",
      "|213.86  |9    |\n",
      "|2152.26 |9    |\n",
      "+--------+-----+\n",
      "only showing top 20 rows\n",
      "\n",
      "======================================================\n",
      "Unique values for column nameOrig: 6353307\n",
      "+-----------+-----+\n",
      "|nameOrig   |count|\n",
      "+-----------+-----+\n",
      "|C1902386530|3    |\n",
      "|C1976208114|3    |\n",
      "|C724452879 |3    |\n",
      "|C1462946854|3    |\n",
      "|C1530544995|3    |\n",
      "|C1677795071|3    |\n",
      "|C400299098 |3    |\n",
      "|C2098525306|3    |\n",
      "|C1065307291|3    |\n",
      "|C363736674 |3    |\n",
      "|C1784010646|3    |\n",
      "|C545315117 |3    |\n",
      "|C1832548028|3    |\n",
      "|C1999539787|3    |\n",
      "|C2051359467|3    |\n",
      "|C1643003822|2    |\n",
      "|C100025963 |2    |\n",
      "|C843011459 |2    |\n",
      "|C1000442951|2    |\n",
      "|C1656837908|2    |\n",
      "+-----------+-----+\n",
      "only showing top 20 rows\n",
      "\n",
      "======================================================\n",
      "Unique values for column oldbalanceOrg: 1845844\n",
      "+-------------+-------+\n",
      "|oldbalanceOrg|count  |\n",
      "+-------------+-------+\n",
      "|0.0          |2102449|\n",
      "|184.0        |918    |\n",
      "|133.0        |914    |\n",
      "|195.0        |912    |\n",
      "|164.0        |909    |\n",
      "|181.0        |908    |\n",
      "|109.0        |908    |\n",
      "|157.0        |902    |\n",
      "|146.0        |899    |\n",
      "|128.0        |898    |\n",
      "|136.0        |898    |\n",
      "|169.0        |896    |\n",
      "|115.0        |896    |\n",
      "|147.0        |891    |\n",
      "|162.0        |886    |\n",
      "|186.0        |885    |\n",
      "|165.0        |884    |\n",
      "|104.0        |883    |\n",
      "|153.0        |880    |\n",
      "|100.0        |880    |\n",
      "+-------------+-------+\n",
      "only showing top 20 rows\n",
      "\n",
      "======================================================\n",
      "Unique values for column newbalanceOrig: 2682586\n",
      "+--------------+-------+\n",
      "|newbalanceOrig|count  |\n",
      "+--------------+-------+\n",
      "|0.0           |3609566|\n",
      "|944.55        |4      |\n",
      "|5122.0        |4      |\n",
      "|5329.83       |4      |\n",
      "|7990.95       |4      |\n",
      "|2755.68       |4      |\n",
      "|15423.16      |4      |\n",
      "|26099.09      |4      |\n",
      "|2987.95       |4      |\n",
      "|3024.55       |4      |\n",
      "|10376.29      |4      |\n",
      "|8396.98       |4      |\n",
      "|785.66        |4      |\n",
      "|193.77        |4      |\n",
      "|9312.22       |4      |\n",
      "|9226.55       |4      |\n",
      "|38767.21      |4      |\n",
      "|321.25        |4      |\n",
      "|7300.24       |4      |\n",
      "|13968.21      |4      |\n",
      "+--------------+-------+\n",
      "only showing top 20 rows\n",
      "\n",
      "======================================================\n",
      "Unique values for column nameDest: 2722362\n",
      "+-----------+-----+\n",
      "|nameDest   |count|\n",
      "+-----------+-----+\n",
      "|C1286084959|113  |\n",
      "|C985934102 |109  |\n",
      "|C665576141 |105  |\n",
      "|C2083562754|102  |\n",
      "|C248609774 |101  |\n",
      "|C1590550415|101  |\n",
      "|C451111351 |99   |\n",
      "|C1789550256|99   |\n",
      "|C1360767589|98   |\n",
      "|C1023714065|97   |\n",
      "|C977993101 |96   |\n",
      "|C97730845  |96   |\n",
      "|C392292416 |95   |\n",
      "|C1899073220|92   |\n",
      "|C306206744 |91   |\n",
      "|C1234776885|90   |\n",
      "|C1782113663|90   |\n",
      "|C998351292 |89   |\n",
      "|C716083600 |89   |\n",
      "|C909295153 |88   |\n",
      "+-----------+-----+\n",
      "only showing top 20 rows\n",
      "\n",
      "======================================================\n",
      "Unique values for column oldbalanceDest: 3614697\n",
      "+--------------+-------+\n",
      "|oldbalanceDest|count  |\n",
      "+--------------+-------+\n",
      "|0.0           |2704388|\n",
      "|1.0E7         |615    |\n",
      "|2.0E7         |219    |\n",
      "|3.0E7         |86     |\n",
      "|4.0E7         |31     |\n",
      "|102.0         |21     |\n",
      "|198.0         |19     |\n",
      "|125.0         |18     |\n",
      "|160.0         |18     |\n",
      "|132.0         |18     |\n",
      "|156.0         |17     |\n",
      "|214.0         |17     |\n",
      "|106.0         |17     |\n",
      "|194.0         |16     |\n",
      "|184.0         |16     |\n",
      "|190.0         |16     |\n",
      "|168.0         |16     |\n",
      "|143.0         |16     |\n",
      "|144.0         |16     |\n",
      "|173.0         |16     |\n",
      "+--------------+-------+\n",
      "only showing top 20 rows\n",
      "\n",
      "======================================================\n",
      "Unique values for column newbalanceDest: 3555499\n",
      "+--------------+-------+\n",
      "|newbalanceDest|count  |\n",
      "+--------------+-------+\n",
      "|0.0           |2439433|\n",
      "|1.0E7         |53     |\n",
      "|971418.91     |32     |\n",
      "|1.916920493E7 |29     |\n",
      "|1.653203216E7 |25     |\n",
      "|1254956.07    |25     |\n",
      "|1412484.09    |22     |\n",
      "|7364724.84    |21     |\n",
      "|4743010.67    |21     |\n",
      "|1178808.14    |21     |\n",
      "|1.812375085E7 |20     |\n",
      "|1186556.81    |19     |\n",
      "|4619798.56    |19     |\n",
      "|2107778.11    |19     |\n",
      "|1517262.16    |19     |\n",
      "|1.303387102E7 |18     |\n",
      "|1.038890422E7 |18     |\n",
      "|1.640848012E7 |17     |\n",
      "|3940085.21    |17     |\n",
      "|2984846.84    |17     |\n",
      "+--------------+-------+\n",
      "only showing top 20 rows\n",
      "\n",
      "======================================================\n",
      "Unique values for column isFraud: 2\n",
      "+-------+-------+\n",
      "|isFraud|count  |\n",
      "+-------+-------+\n",
      "|0      |6354407|\n",
      "|1      |8213   |\n",
      "+-------+-------+\n",
      "\n",
      "======================================================\n",
      "Unique values for column isFlaggedFraud: 2\n",
      "+--------------+-------+\n",
      "|isFlaggedFraud|count  |\n",
      "+--------------+-------+\n",
      "|0             |6362604|\n",
      "|1             |16     |\n",
      "+--------------+-------+\n",
      "\n",
      "======================================================\n"
     ]
    }
   ],
   "source": [
    "# Show the count of unique values for each column\n",
    "from pyspark.sql.functions import countDistinct\n",
    "\n",
    "for col in df.columns:\n",
    "    unique_count = df.select(countDistinct(col)).collect()[0][0]\n",
    "    print(f\"Unique values for column {col}: {unique_count}\")\n",
    "    \n",
    "    # Optional: to display the value counts similar to pandas' value_counts\n",
    "    df.groupBy(col).count().orderBy('count', ascending=False).show(truncate=False)\n",
    "    print(\"======================================================\")\n"
   ]
  },
  {
   "cell_type": "markdown",
   "metadata": {},
   "source": [
    "# Data Visualization"
   ]
  },
  {
   "cell_type": "code",
   "execution_count": 14,
   "metadata": {},
   "outputs": [
    {
     "data": {
      "image/png": "[encoded data removed]",
      "text/plain": [
       "<Figure size 800x600 with 1 Axes>"
      ]
     },
     "metadata": {},
     "output_type": "display_data"
    }
   ],
   "source": [
    "# Convert PySpark DataFrame to Pandas DataFrame for visualization\n",
    "\n",
    "df_pd = df.select('type').toPandas()\n",
    "\n",
    "\n",
    "sns.set_style(\"dark\")  \n",
    "sns.set_palette(\"pastel\")\n",
    "\n",
    "colors = plt.cm.autumn(np.linspace(0, 1, df_pd['type'].nunique()))\n",
    "\n",
    "plt.figure(figsize=(8, 6))\n",
    "df_pd['type'].value_counts().plot(kind='bar', color=colors)\n",
    "plt.title('Type of transaction', color='#F41010', fontsize=20)\n",
    "plt.xticks(rotation=45, color='#F41010')\n",
    "plt.xlabel('Type', fontsize=18, color='#F41010')\n",
    "plt.ylabel('count', fontsize=18, color='#F41010')\n",
    "plt.show()"
   ]
  },
  {
   "cell_type": "code",
   "execution_count": 15,
   "metadata": {},
   "outputs": [
    {
     "data": {
      "image/png": "[encoded data removed]",
      "text/plain": [
       "<Figure size 1000x500 with 1 Axes>"
      ]
     },
     "metadata": {},
     "output_type": "display_data"
    }
   ],
   "source": [
    "df_pd = df.select('amount').toPandas()\n",
    "\n",
    "sns.set_style(\"dark\") # set the style of the plot as dark grid\n",
    "sns.set_palette(\"pastel\")\n",
    "plt.figure(figsize = (10,5))\n",
    "df_pd['amount'].value_counts().sort_values(ascending=False).head().plot(kind='bar', color='#F47F10')\n",
    "plt.title(\"Amount of the transaction\", fontsize=20, color=\"#F41010\")\n",
    "plt.xticks(rotation=0, fontsize=12, color='#F41010')\n",
    "plt.xlabel('Amount', fontsize=16, color='#F41010')\n",
    "plt.ylabel('Count', fontsize=16, color='#F41010')\n",
    "plt.show()"
   ]
  },
  {
   "cell_type": "code",
   "execution_count": 16,
   "metadata": {},
   "outputs": [
    {
     "name": "stdout",
     "output_type": "stream",
     "text": [
      "+--------+-------+\n",
      "|    type|  count|\n",
      "+--------+-------+\n",
      "|TRANSFER| 532909|\n",
      "| CASH_IN|1399284|\n",
      "|CASH_OUT|2237500|\n",
      "| PAYMENT|2151495|\n",
      "|   DEBIT|  41432|\n",
      "+--------+-------+\n",
      "\n"
     ]
    }
   ],
   "source": [
    "# Group by 'type' and count 'amount'\n",
    "type_amount_counts = df.groupBy('type').count().select('type', 'count')\n",
    "type_amount_counts.show()"
   ]
  },
  {
   "cell_type": "code",
   "execution_count": 17,
   "metadata": {},
   "outputs": [
    {
     "data": {
      "image/png": "[encoded data removed]",
      "text/plain": [
       "<Figure size 600x600 with 1 Axes>"
      ]
     },
     "metadata": {},
     "output_type": "display_data"
    }
   ],
   "source": [
    "counts_pd = type_amount_counts.toPandas()\n",
    "\n",
    "colors = plt.cm.Blues(np.linspace(0, 1, counts_pd['count'].nunique()))\n",
    "\n",
    "plt.figure(figsize=(6, 6))\n",
    "plt.pie(counts_pd['count'], labels=counts_pd['type'], autopct=\"%1.1f%%\", \n",
    "        colors=colors, shadow=True, explode=(0.1, 0, 0, 0, 0),\n",
    "        textprops={'fontsize': 15})\n",
    "plt.title('Count of each type of transaction', fontweight='bold', \n",
    "          fontsize=18, fontfamily='times new roman')\n",
    "plt.show()"
   ]
  },
  {
   "cell_type": "markdown",
   "metadata": {},
   "source": [
    "# Model Training"
   ]
  },
  {
   "cell_type": "code",
   "execution_count": 18,
   "metadata": {},
   "outputs": [],
   "source": [
    "from pyspark.ml.feature import StringIndexer, OneHotEncoder, VectorAssembler, RFormula\n",
    "from pyspark.ml.classification import LogisticRegression, DecisionTreeClassifier, RandomForestClassifier,NaiveBayes\n",
    "from pyspark.ml import Pipeline\n",
    "from pyspark.ml.evaluation import BinaryClassificationEvaluator\n",
    "from pyspark.sql.functions import col, when"
   ]
  },
  {
   "cell_type": "code",
   "execution_count": 19,
   "metadata": {},
   "outputs": [],
   "source": [
    "# Convert categorical columns to numeric using StringIndexer\n",
    "indexer = StringIndexer(inputCol=\"type\", outputCol=\"type_indexed\")"
   ]
  },
  {
   "cell_type": "code",
   "execution_count": 20,
   "metadata": {},
   "outputs": [],
   "source": [
    "# Create new features based on balance differences\n",
    "df = df.withColumn(\"errorBalanceOrig\", col(\"newbalanceOrig\") + col(\"amount\") - col(\"oldbalanceOrg\"))\n",
    "df = df.withColumn(\"errorBalanceDest\", col(\"oldbalanceDest\") + col(\"amount\") - col(\"newbalanceDest\"))"
   ]
  },
  {
   "cell_type": "code",
   "execution_count": 21,
   "metadata": {},
   "outputs": [],
   "source": [
    "# Assemble features into a vector\n",
    "feature_columns = [\"type_indexed\", \"amount\", \"oldbalanceOrg\", \"newbalanceOrig\",\n",
    "                   \"oldbalanceDest\", \"newbalanceDest\", \"errorBalanceOrig\", \"errorBalanceDest\"]\n",
    "assembler = VectorAssembler(inputCols=feature_columns, outputCol=\"features\")"
   ]
  },
  {
   "cell_type": "code",
   "execution_count": 22,
   "metadata": {},
   "outputs": [],
   "source": [
    "train_data, test_data = df.randomSplit([0.7, 0.3], seed=42)"
   ]
  },
  {
   "cell_type": "markdown",
   "metadata": {},
   "source": [
    "#### Logistic Regression"
   ]
  },
  {
   "cell_type": "code",
   "execution_count": 23,
   "metadata": {},
   "outputs": [
    {
     "name": "stdout",
     "output_type": "stream",
     "text": [
      "+-------+----------+-------------------------------------------+\n",
      "|isFraud|prediction|probability                                |\n",
      "+-------+----------+-------------------------------------------+\n",
      "|0      |0.0       |[0.9999999999999925,7.549516567451064E-15] |\n",
      "|0      |0.0       |[1.0,0.0]                                  |\n",
      "|0      |0.0       |[0.9999999999978386,2.1613821843402548E-12]|\n",
      "|0      |0.0       |[0.999756127881277,2.4387211872300973E-4]  |\n",
      "|0      |0.0       |[0.99999999999998,1.9984014443252818E-14]  |\n",
      "|0      |0.0       |[0.9999999997271769,2.72823097446917E-10]  |\n",
      "|0      |0.0       |[0.9999940422260808,5.957773919207376E-6]  |\n",
      "|0      |0.0       |[0.9999999999997891,2.1094237467877974E-13]|\n",
      "|0      |0.0       |[0.9999536451425386,4.6354857461405885E-5] |\n",
      "|0      |0.0       |[0.9997827796246149,2.1722037538507433E-4] |\n",
      "+-------+----------+-------------------------------------------+\n",
      "only showing top 10 rows\n",
      "\n"
     ]
    }
   ],
   "source": [
    "# 1. Logistic Regression Model\n",
    "lr = LogisticRegression(labelCol=\"isFraud\", featuresCol=\"features\")\n",
    "\n",
    "pipeline_lr =Pipeline(stages=[indexer,assembler,lr])\n",
    "\n",
    "model_lr =pipeline_lr.fit(train_data)\n",
    "\n",
    "predictions_lr = model_lr.transform(test_data)\n",
    "\n",
    "predictions_lr.select(\"isFraud\", \"prediction\", \"probability\").show(10, False)"
   ]
  },
  {
   "cell_type": "code",
   "execution_count": 24,
   "metadata": {},
   "outputs": [
    {
     "name": "stdout",
     "output_type": "stream",
     "text": [
      "Logistic Regressor Accuracy: 0.9676456972897505\n"
     ]
    }
   ],
   "source": [
    "from pyspark.ml.evaluation import BinaryClassificationEvaluator\n",
    "\n",
    "evaluator_lr = BinaryClassificationEvaluator(labelCol=\"isFraud\",rawPredictionCol=\"rawPrediction\")\n",
    "accuracy_lr = evaluator_lr.evaluate(predictions_lr)\n",
    "print(f\"Logistic Regressor Accuracy: {accuracy_lr}\")"
   ]
  },
  {
   "cell_type": "markdown",
   "metadata": {},
   "source": [
    "#### Decision Tree Classifier"
   ]
  },
  {
   "cell_type": "code",
   "execution_count": 25,
   "metadata": {},
   "outputs": [
    {
     "name": "stdout",
     "output_type": "stream",
     "text": [
      "+-------+----------+-----------+\n",
      "|isFraud|prediction|probability|\n",
      "+-------+----------+-----------+\n",
      "|0      |0.0       |[1.0,0.0]  |\n",
      "|0      |0.0       |[1.0,0.0]  |\n",
      "|0      |0.0       |[1.0,0.0]  |\n",
      "|0      |0.0       |[1.0,0.0]  |\n",
      "|0      |0.0       |[1.0,0.0]  |\n",
      "|0      |0.0       |[1.0,0.0]  |\n",
      "|0      |0.0       |[1.0,0.0]  |\n",
      "|0      |0.0       |[1.0,0.0]  |\n",
      "|0      |0.0       |[1.0,0.0]  |\n",
      "|0      |0.0       |[1.0,0.0]  |\n",
      "+-------+----------+-----------+\n",
      "only showing top 10 rows\n",
      "\n"
     ]
    }
   ],
   "source": [
    "# 2. Decision Tree Classifier Model\n",
    "dt = DecisionTreeClassifier(labelCol=\"isFraud\", featuresCol=\"features\")\n",
    "\n",
    "# Pipeline: StringIndexer, VectorAssembler, and Decision Tree Classifier\n",
    "pipeline_dt = Pipeline(stages=[indexer,assembler,dt])\n",
    "\n",
    "# Fit the model\n",
    "model_dt = pipeline_dt.fit(train_data)\n",
    "\n",
    "# Make predictions\n",
    "predictions_dt = model_dt.transform(test_data)\n",
    "\n",
    "predictions_dt.select(\"isFraud\", \"prediction\", \"probability\").show(10, False)"
   ]
  },
  {
   "cell_type": "code",
   "execution_count": 26,
   "metadata": {},
   "outputs": [
    {
     "name": "stdout",
     "output_type": "stream",
     "text": [
      "Decision Tree Classifier Accuracy: 0.9986587346858958\n"
     ]
    }
   ],
   "source": [
    "evaluator_dt = BinaryClassificationEvaluator(labelCol=\"isFraud\",rawPredictionCol=\"rawPrediction\")\n",
    "accuracy_dt = evaluator_dt.evaluate(predictions_dt)\n",
    "print(f\"Decision Tree Classifier Accuracy: {accuracy_dt}\")"
   ]
  },
  {
   "cell_type": "markdown",
   "metadata": {},
   "source": [
    "#### Random Forest Classifier"
   ]
  },
  {
   "cell_type": "code",
   "execution_count": 28,
   "metadata": {},
   "outputs": [
    {
     "name": "stdout",
     "output_type": "stream",
     "text": [
      "+-------+----------+------------------------------------------+\n",
      "|isFraud|prediction|probability                               |\n",
      "+-------+----------+------------------------------------------+\n",
      "|0      |0.0       |[0.9998195838634517,1.8041613654836612E-4]|\n",
      "|0      |0.0       |[0.99983878566975,1.6121433024988334E-4]  |\n",
      "|0      |0.0       |[0.9998523527030718,1.4764729692819657E-4]|\n",
      "|0      |0.0       |[0.9998523240224126,1.4767597758728082E-4]|\n",
      "|0      |0.0       |[0.9998524630211061,1.4753697889392748E-4]|\n",
      "|0      |0.0       |[0.9998195838634517,1.8041613654836612E-4]|\n",
      "|0      |0.0       |[0.9998522137043784,1.477862956215499E-4] |\n",
      "|0      |0.0       |[0.9998524630211061,1.4753697889392748E-4]|\n",
      "|0      |0.0       |[0.9998523240224126,1.4767597758728082E-4]|\n",
      "|0      |0.0       |[0.9998194448647583,1.8055513524171943E-4]|\n",
      "+-------+----------+------------------------------------------+\n",
      "only showing top 10 rows\n",
      "\n"
     ]
    }
   ],
   "source": [
    "# 4. Random Forest Classifier\n",
    "rf = RandomForestClassifier(labelCol=\"isFraud\", featuresCol=\"features\", numTrees=100)\n",
    "\n",
    "pipeline_rf = Pipeline(stages=[indexer, assembler, rf])\n",
    "\n",
    "model_rf = pipeline_rf.fit(train_data)\n",
    "\n",
    "predictions_rf = model_rf.transform(test_data)\n",
    "predictions_rf.select(\"isFraud\", \"prediction\", \"probability\").show(10, False)"
   ]
  },
  {
   "cell_type": "code",
   "execution_count": 29,
   "metadata": {},
   "outputs": [
    {
     "name": "stdout",
     "output_type": "stream",
     "text": [
      "Random Forest Classifier Accuracy: 0.9988321627452084\n"
     ]
    }
   ],
   "source": [
    "evaluator_rf = BinaryClassificationEvaluator(labelCol=\"isFraud\",rawPredictionCol=\"rawPrediction\")\n",
    "accuracy = evaluator_rf.evaluate(predictions_rf)\n",
    "print(f\"Random Forest Classifier Accuracy: {accuracy}\")"
   ]
  },
  {
   "cell_type": "markdown",
   "metadata": {},
   "source": [
    "### Random Forest Classifier has the highest accuracy"
   ]
  },
  {
   "cell_type": "code",
   "execution_count": 39,
   "metadata": {},
   "outputs": [],
   "source": [
    "spark.stop()"
   ]
  }
 ],
 "metadata": {
  "accelerator": "GPU",
  "colab": {
   "gpuType": "T4",
   "provenance": []
  },
  "kernelspec": {
   "display_name": "Python 3 (ipykernel)",
   "language": "python",
   "name": "python3"
  },
  "language_info": {
   "codemirror_mode": {
    "name": "ipython",
    "version": 3
   },
   "file_extension": ".py",
   "mimetype": "text/x-python",
   "name": "python",
   "nbconvert_exporter": "python",
   "pygments_lexer": "ipython3",
   "version": "3.11.5"
  }
 },
 "nbformat": 4,
 "nbformat_minor": 4
}
